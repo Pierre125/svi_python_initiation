{
 "cells": [
  {
   "cell_type": "markdown",
   "id": "b997b740-053e-4ed2-9c6f-650a8ff7c437",
   "metadata": {},
   "source": [
    "<a name=\"plan\"></a>\n",
    "\n",
    "[<img width=\"100%\" src=\"./img/basics_plan.svg\"></img>](#plan)"
   ]
  },
  {
   "cell_type": "markdown",
   "id": "24c38bec-e56f-408a-b411-9595f697754c",
   "metadata": {},
   "source": [
    "## 1. Loops\n",
    "```Python\n",
    "# The FOR loop:\n",
    "for x in my_iterable_object:\n",
    "    print(x)\n",
    "\n",
    "# The WHILE loop:\n",
    "i = 0\n",
    "while i < 5:\n",
    "    print(i**2)\n",
    "    i = i + 1\n",
    "```\n",
    "\n",
    "You've probably familiar with the `if... else` statements.  \n",
    "Note that in python you can also add the `else` statement in `for` and `while` loops.  \n",
    "Use `break` to get out of the loop, use `continue` to skip the current iteration."
   ]
  },
  {
   "cell_type": "markdown",
   "id": "66b0297e-b740-4a80-9739-f1598c1d0724",
   "metadata": {},
   "source": [
    "# 2. Basic types\n",
    "\n",
    "## 2.1. Booleans\n",
    "\n",
    "Important thing to note here is that in Python, the boolean `True` is (for all intents and purposes) \"the same\" as integer `1`, and similarily:"
   ]
  },
  {
   "cell_type": "code",
   "execution_count": 128,
   "id": "e4012849-296f-44cb-93e3-a0f15a7c0f41",
   "metadata": {},
   "outputs": [
    {
     "data": {
      "text/plain": [
       "True"
      ]
     },
     "execution_count": 128,
     "metadata": {},
     "output_type": "execute_result"
    }
   ],
   "source": [
    "False == 0"
   ]
  },
  {
   "cell_type": "markdown",
   "id": "f3565d3a-054e-4299-8073-c734dd5614b8",
   "metadata": {},
   "source": [
    "### Basic logic operations\n",
    "\n",
    "We have (in order of priority) \n",
    "```Python\n",
    "or\n",
    "and\n",
    "not\n",
    "```"
   ]
  },
  {
   "cell_type": "code",
   "execution_count": 129,
   "id": "dce456e5-e56b-4d09-833f-edbbbab3abbb",
   "metadata": {},
   "outputs": [
    {
     "data": {
      "text/plain": [
       "True"
      ]
     },
     "execution_count": 129,
     "metadata": {},
     "output_type": "execute_result"
    }
   ],
   "source": [
    "True or False\n"
   ]
  },
  {
   "cell_type": "markdown",
   "id": "ad8b4934-848d-4904-a25c-9a69afa32431",
   "metadata": {},
   "source": [
    "## 1.2. Numerical\n",
    "\n",
    "`int`, `float`, `complex`"
   ]
  },
  {
   "cell_type": "code",
   "execution_count": 129,
   "id": "2c1a03b8-6253-4cb0-a652-dbba83325234",
   "metadata": {},
   "outputs": [
    {
     "data": {
      "text/plain": [
       "(-1.2000000000000002+2j)"
      ]
     },
     "execution_count": 129,
     "metadata": {},
     "output_type": "execute_result"
    }
   ],
   "source": [
    "3+2j - 4.2"
   ]
  },
  {
   "cell_type": "code",
   "execution_count": 148,
   "id": "fcf0a9a5-fcb1-4e2a-ad89-83e075dc5348",
   "metadata": {},
   "outputs": [
    {
     "name": "stdout",
     "output_type": "stream",
     "text": [
      "This is the memory value of your float:\n",
      "4.20000000000000017763568394002504646778106689453125\n"
     ]
    }
   ],
   "source": [
    "print(f\"This is the memory value of your float:\\n{4.2:.50f}\")"
   ]
  },
  {
   "cell_type": "markdown",
   "id": "42f01e21-b03b-4e73-9587-1cf5953d602c",
   "metadata": {},
   "source": [
    "For more information on why is this the case, visit https://docs.python.org/3/tutorial/floatingpoint.html  \n",
    "In short, it's the consequence of your machine being bound to translate everything into binary, and in binary code 0.1 is infinite decimal, so it must inevitably be rounded somewhere."
   ]
  },
  {
   "cell_type": "code",
   "execution_count": 162,
   "id": "24b753a6-74da-43c1-ac3e-00a84a153521",
   "metadata": {},
   "outputs": [
    {
     "data": {
      "text/plain": [
       "False"
      ]
     },
     "execution_count": 162,
     "metadata": {},
     "output_type": "execute_result"
    }
   ],
   "source": [
    "# This cell should be revisited after learning about lists\n",
    "sum([0.1] * 10) == 1"
   ]
  },
  {
   "cell_type": "code",
   "execution_count": 136,
   "id": "31c814dd-6f77-4cc9-8a82-f3e65606f64e",
   "metadata": {},
   "outputs": [
    {
     "data": {
      "text/plain": [
       "(3602879701896397, 36028797018963968)"
      ]
     },
     "execution_count": 136,
     "metadata": {},
     "output_type": "execute_result"
    }
   ],
   "source": [
    "0.1.as_integer_ratio()"
   ]
  },
  {
   "cell_type": "code",
   "execution_count": 126,
   "id": "dadcaa87-2855-425b-9d78-62df85108d15",
   "metadata": {},
   "outputs": [
    {
     "data": {
      "text/plain": [
       "2.0"
      ]
     },
     "execution_count": 126,
     "metadata": {},
     "output_type": "execute_result"
    }
   ],
   "source": [
    "float('2')"
   ]
  },
  {
   "cell_type": "code",
   "execution_count": 144,
   "id": "cbd7fc37-c295-4c0f-9817-bae145e8144a",
   "metadata": {},
   "outputs": [
    {
     "data": {
      "text/plain": [
       "True"
      ]
     },
     "execution_count": 144,
     "metadata": {},
     "output_type": "execute_result"
    }
   ],
   "source": [
    "'3'.isnumeric()"
   ]
  },
  {
   "cell_type": "markdown",
   "id": "16f949d6-ff5d-437e-85b8-32098fdcbf6c",
   "metadata": {},
   "source": [
    "## 1.3 Sequences\n",
    "```Python\n",
    "range\n",
    "tuple\n",
    "list\n",
    "```"
   ]
  },
  {
   "cell_type": "markdown",
   "id": "1d2c41b4-99eb-4503-a89d-60a08be5b28f",
   "metadata": {},
   "source": [
    "### Tuple"
   ]
  },
  {
   "cell_type": "code",
   "execution_count": 119,
   "id": "f849abbd-f5e7-43ba-8948-f678b54a3cd6",
   "metadata": {},
   "outputs": [],
   "source": [
    "my_tuple = (4, (3,'r',5.2), 1e4, 'last')"
   ]
  },
  {
   "cell_type": "code",
   "execution_count": 120,
   "id": "17c9f629-2cc7-48c4-800c-233b89a5b39f",
   "metadata": {},
   "outputs": [
    {
     "data": {
      "text/plain": [
       "10000.0"
      ]
     },
     "execution_count": 120,
     "metadata": {},
     "output_type": "execute_result"
    }
   ],
   "source": [
    "my_tuple[2]"
   ]
  },
  {
   "cell_type": "code",
   "execution_count": 121,
   "id": "2e5500b3-bfe6-4aae-810b-f5834cc02a19",
   "metadata": {},
   "outputs": [
    {
     "data": {
      "text/plain": [
       "(4, (3, 'r', 5.2), 10000.0, 'last', 3, 4)"
      ]
     },
     "execution_count": 121,
     "metadata": {},
     "output_type": "execute_result"
    }
   ],
   "source": [
    "my_tuple + (3, 4)"
   ]
  },
  {
   "cell_type": "code",
   "execution_count": 122,
   "id": "87dd9e85-1e18-4d17-9f0e-82185578280b",
   "metadata": {},
   "outputs": [
    {
     "data": {
      "text/plain": [
       "(4,\n",
       " (3, 'r', 5.2),\n",
       " 10000.0,\n",
       " 'last',\n",
       " 4,\n",
       " (3, 'r', 5.2),\n",
       " 10000.0,\n",
       " 'last',\n",
       " 4,\n",
       " (3, 'r', 5.2),\n",
       " 10000.0,\n",
       " 'last')"
      ]
     },
     "execution_count": 122,
     "metadata": {},
     "output_type": "execute_result"
    }
   ],
   "source": [
    "3 * my_tuple"
   ]
  },
  {
   "cell_type": "markdown",
   "id": "e7f199bd-7163-49e1-a427-a1f2037fc19a",
   "metadata": {},
   "source": [
    "### Range"
   ]
  },
  {
   "cell_type": "code",
   "execution_count": 123,
   "id": "9cfdad6d-82eb-4ad6-aa30-3fca9663b307",
   "metadata": {},
   "outputs": [
    {
     "name": "stdout",
     "output_type": "stream",
     "text": [
      "0\n",
      "1\n",
      "4\n",
      "9\n",
      "16\n"
     ]
    }
   ],
   "source": [
    "# range is like a \"lazy tuple\" used for counting:\n",
    "for i in range(5):\n",
    "    print(i**2)"
   ]
  },
  {
   "cell_type": "markdown",
   "id": "3ac6c880-3c49-49e3-963f-de44177d5a4c",
   "metadata": {},
   "source": [
    "### List"
   ]
  },
  {
   "cell_type": "code",
   "execution_count": 127,
   "id": "ba8bf8f8-def9-42c4-ac06-269977116e9f",
   "metadata": {},
   "outputs": [
    {
     "data": {
      "text/plain": [
       "['lh', [4, 5, 3, 3, 3], 40000.0]"
      ]
     },
     "execution_count": 127,
     "metadata": {},
     "output_type": "execute_result"
    }
   ],
   "source": [
    "['lh', [4, 5, 3, 3, 3], 4e4]"
   ]
  },
  {
   "cell_type": "code",
   "execution_count": 126,
   "id": "48fbcbca-6e78-4bcb-887d-fc980309e915",
   "metadata": {},
   "outputs": [
    {
     "data": {
      "text/plain": [
       "[5, 10, 15, 20, 25, 30, 35, 40, 45, 50, 55, 60, 65, 70, 75, 80, 85, 90, 95]"
      ]
     },
     "execution_count": 126,
     "metadata": {},
     "output_type": "execute_result"
    }
   ],
   "source": [
    "my_list = list(range(5, 100, 5))"
   ]
  },
  {
   "cell_type": "code",
   "execution_count": null,
   "id": "20206ce0-3cfc-4822-9859-cf6b7c00ee85",
   "metadata": {},
   "outputs": [],
   "source": []
  },
  {
   "cell_type": "code",
   "execution_count": 80,
   "id": "411e5368-4472-4879-ad4c-1ee2444ad13c",
   "metadata": {},
   "outputs": [
    {
     "data": {
      "text/plain": [
       "generator"
      ]
     },
     "execution_count": 80,
     "metadata": {},
     "output_type": "execute_result"
    }
   ],
   "source": [
    "# Another kind of sequence(?) - generators:\n",
    "my_gen = (2**i for i in range(4, 16))\n",
    "type(my_gen)"
   ]
  },
  {
   "cell_type": "code",
   "execution_count": 94,
   "id": "e0f549d2-b132-492a-b113-80086ed60155",
   "metadata": {},
   "outputs": [
    {
     "ename": "StopIteration",
     "evalue": "",
     "output_type": "error",
     "traceback": [
      "\u001b[0;31m---------------------------------------------------------------------------\u001b[0m",
      "\u001b[0;31mStopIteration\u001b[0m                             Traceback (most recent call last)",
      "\u001b[0;32m<ipython-input-94-78dc05d55b31>\u001b[0m in \u001b[0;36m<module>\u001b[0;34m\u001b[0m\n\u001b[0;32m----> 1\u001b[0;31m \u001b[0mnext\u001b[0m\u001b[0;34m(\u001b[0m\u001b[0mmy_gen\u001b[0m\u001b[0;34m)\u001b[0m\u001b[0;34m\u001b[0m\u001b[0;34m\u001b[0m\u001b[0m\n\u001b[0m",
      "\u001b[0;31mStopIteration\u001b[0m: "
     ]
    }
   ],
   "source": [
    "next(my_gen)"
   ]
  },
  {
   "cell_type": "markdown",
   "id": "bfd6cd19-59ab-474b-abf8-9b7175628990",
   "metadata": {
    "tags": []
   },
   "source": [
    "## Bonus: List comprehensions\n",
    "\n",
    "A very succint and convinient way of creating lists\n",
    "\n",
    "The same way we did for creating the generator, only this time we use the square brackets \"[]\"\n",
    "```Python\n",
    "my_cool_list = [f(x) for x in my_existing_list]\n",
    "```\n",
    "Create the list with condition:\n",
    "```Python\n",
    "my_cool_list = [f(x) for x in my_existing_list if condition]\n",
    "```\n",
    "**BUT!:**\n",
    "```Python\n",
    "my_cool_list = [f(x) if condition else g(x) for x in my_existing_list]\n",
    "```\n",
    "If you want to complicate further:\n",
    "```Python\n",
    "my_cool_list = [f(x) if condition1 else g(x) for x in my_existing_list if condition2]\n",
    "```"
   ]
  },
  {
   "cell_type": "markdown",
   "id": "f20c5711-aaf4-488f-97be-d07cd1bbc8e6",
   "metadata": {},
   "source": [
    "## Exercices"
   ]
  },
  {
   "cell_type": "markdown",
   "id": "2b02c604-f27e-4057-8e78-41d581fe88ae",
   "metadata": {},
   "source": [
    "**EX.1. Bool:**\n",
    "Find the number of students with notes bigger then 16."
   ]
  },
  {
   "cell_type": "code",
   "execution_count": 1,
   "id": "8a34e466-7c54-4c13-be06-5c188c3aedcc",
   "metadata": {},
   "outputs": [],
   "source": [
    "import random # Example of a standard library module\n",
    "\n",
    "# The list of (good) student's notes\n",
    "# (integers from 12 to 20 for 200 students):\n",
    "notes_list = [random.randint(12, 20) for i in range(200)]"
   ]
  },
  {
   "cell_type": "code",
   "execution_count": 3,
   "id": "5e15430c-7a1d-4d6f-a086-bc9f0be7e7cb",
   "metadata": {
    "tags": []
   },
   "outputs": [
    {
     "data": {
      "image/png": "[encoded data removed]",
      "text/plain": [
       "<Figure size 432x288 with 1 Axes>"
      ]
     },
     "metadata": {
      "needs_background": "light"
     },
     "output_type": "display_data"
    }
   ],
   "source": [
    "import matplotlib.pyplot as plt # Conventional way of importing matplotlib\n",
    "\n",
    "plt.hist(notes_list, bins=range(12,22), align='left', rwidth=0.6);\n",
    "plt.grid(True, axis='y')"
   ]
  },
  {
   "cell_type": "code",
   "execution_count": 12,
   "id": "732d712a-3c2a-4802-b4ba-07747510b455",
   "metadata": {},
   "outputs": [],
   "source": [
    "# To load the solution, run this cell (twice)\n",
    "%load \"../snippets/solutions/Ch1Ex1.py\""
   ]
  },
  {
   "cell_type": "markdown",
   "id": "a4bb8a04-e128-4842-88e1-dcd4e9c7f285",
   "metadata": {},
   "source": [
    "**EX.2. List comprehension**  \n",
    "Increase the note of each student, if smaller then 20"
   ]
  },
  {
   "cell_type": "code",
   "execution_count": null,
   "id": "e70a8b7b-c745-46be-a3c6-f58f85be58f8",
   "metadata": {},
   "outputs": [],
   "source": []
  }
 ],
 "metadata": {
  "kernelspec": {
   "display_name": "3D",
   "language": "python",
   "name": "3d"
  },
  "language_info": {
   "codemirror_mode": {
    "name": "ipython",
    "version": 3
   },
   "file_extension": ".py",
   "mimetype": "text/x-python",
   "name": "python",
   "nbconvert_exporter": "python",
   "pygments_lexer": "ipython3",
   "version": "3.8.5"
  }
 },
 "nbformat": 4,
 "nbformat_minor": 5
}
