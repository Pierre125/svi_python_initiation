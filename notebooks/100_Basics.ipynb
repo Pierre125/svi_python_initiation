{
 "cells": [
  {
   "cell_type": "markdown",
   "id": "b997b740-053e-4ed2-9c6f-650a8ff7c437",
   "metadata": {},
   "source": [
    "<a name=\"plan\"></a>\n",
    "\n",
    "[<img width=\"100%\" src=\"../img/Basics.svg\"></img>](#plan)"
   ]
  },
  {
   "cell_type": "markdown",
   "id": "24c38bec-e56f-408a-b411-9595f697754c",
   "metadata": {},
   "source": [
    "# 1. Loops\n",
    "```Python\n",
    "# The FOR loop:\n",
    "for x in my_iterable_object:\n",
    "    print(x)\n",
    "\n",
    "# The WHILE loop:\n",
    "i = 0\n",
    "while i < 5:\n",
    "    print(i**2)\n",
    "    i = i + 1\n",
    "```\n",
    "\n",
    "You've probably familiar with the `if... else` statements.  \n",
    "Note that in python you can also add the `else` statement in `for` and `while` loops.  \n",
    "Use `break` to get out of the loop, use `continue` to skip the current iteration."
   ]
  },
  {
   "cell_type": "markdown",
   "id": "66b0297e-b740-4a80-9739-f1598c1d0724",
   "metadata": {},
   "source": [
    "# 2. Basic types\n",
    "\n",
    "## 2.1. Booleans\n",
    "\n",
    "Important thing to note here is that in Python, the boolean `True` is (for all intents and purposes) \"the same\" as integer `1`, and similarily:"
   ]
  },
  {
   "cell_type": "code",
   "execution_count": 128,
   "id": "e4012849-296f-44cb-93e3-a0f15a7c0f41",
   "metadata": {},
   "outputs": [
    {
     "data": {
      "text/plain": [
       "True"
      ]
     },
     "execution_count": 128,
     "metadata": {},
     "output_type": "execute_result"
    }
   ],
   "source": [
    "False == 0"
   ]
  },
  {
   "cell_type": "markdown",
   "id": "f3565d3a-054e-4299-8073-c734dd5614b8",
   "metadata": {},
   "source": [
    "### Basic logic operations\n",
    "\n",
    "We have (in order of priority) \n",
    "```Python\n",
    "not\n",
    "and\n",
    "or\n",
    "```"
   ]
  },
  {
   "cell_type": "code",
   "execution_count": 207,
   "id": "dce456e5-e56b-4d09-833f-edbbbab3abbb",
   "metadata": {},
   "outputs": [
    {
     "data": {
      "text/plain": [
       "True"
      ]
     },
     "execution_count": 207,
     "metadata": {},
     "output_type": "execute_result"
    }
   ],
   "source": [
    "# The removal of which parenthesis doesn't change the following expression?\n",
    "(True and False) or not (True and False)"
   ]
  },
  {
   "cell_type": "code",
   "execution_count": 191,
   "id": "c1a55ee5-e9da-4a7f-8d4d-899a63cb4c4d",
   "metadata": {},
   "outputs": [
    {
     "data": {
      "text/plain": [
       "bool"
      ]
     },
     "execution_count": 191,
     "metadata": {},
     "output_type": "execute_result"
    }
   ],
   "source": [
    "type(True)"
   ]
  },
  {
   "cell_type": "code",
   "execution_count": 203,
   "id": "89a76d24-1053-41d0-96bd-189ed765c3c1",
   "metadata": {},
   "outputs": [
    {
     "data": {
      "text/plain": [
       "True"
      ]
     },
     "execution_count": 203,
     "metadata": {},
     "output_type": "execute_result"
    }
   ],
   "source": [
    "bool(5)"
   ]
  },
  {
   "cell_type": "code",
   "execution_count": 204,
   "id": "28788fb0-2c8b-474e-ae86-96816d4d7671",
   "metadata": {},
   "outputs": [
    {
     "name": "stdout",
     "output_type": "stream",
     "text": [
      "hello\n"
     ]
    }
   ],
   "source": [
    "if 'not empty': # non-zero number, not empty list, etc.\n",
    "    print(\"hello\")"
   ]
  },
  {
   "cell_type": "markdown",
   "id": "ad8b4934-848d-4904-a25c-9a69afa32431",
   "metadata": {},
   "source": [
    "## 2.2. Numerical\n",
    "\n",
    "`int`, `float`, `complex`"
   ]
  },
  {
   "cell_type": "code",
   "execution_count": 129,
   "id": "2c1a03b8-6253-4cb0-a652-dbba83325234",
   "metadata": {},
   "outputs": [
    {
     "data": {
      "text/plain": [
       "(-1.2000000000000002+2j)"
      ]
     },
     "execution_count": 129,
     "metadata": {},
     "output_type": "execute_result"
    }
   ],
   "source": [
    "3+2j - 4.2"
   ]
  },
  {
   "cell_type": "code",
   "execution_count": 148,
   "id": "fcf0a9a5-fcb1-4e2a-ad89-83e075dc5348",
   "metadata": {},
   "outputs": [
    {
     "name": "stdout",
     "output_type": "stream",
     "text": [
      "This is the memory value of your float:\n",
      "4.20000000000000017763568394002504646778106689453125\n"
     ]
    }
   ],
   "source": [
    "print(f\"This is the memory value of your float:\\n{4.2:.50f}\")"
   ]
  },
  {
   "cell_type": "markdown",
   "id": "42f01e21-b03b-4e73-9587-1cf5953d602c",
   "metadata": {},
   "source": [
    "For more information on why is this the case, visit https://docs.python.org/3/tutorial/floatingpoint.html  \n",
    "In short, it's the consequence of your machine being bound to translate everything into binary, and in binary code 0.1 is infinite decimal, so it must inevitably be rounded somewhere."
   ]
  },
  {
   "cell_type": "code",
   "execution_count": 162,
   "id": "24b753a6-74da-43c1-ac3e-00a84a153521",
   "metadata": {},
   "outputs": [
    {
     "data": {
      "text/plain": [
       "False"
      ]
     },
     "execution_count": 162,
     "metadata": {},
     "output_type": "execute_result"
    }
   ],
   "source": [
    "# This cell should be revisited after learning about lists\n",
    "sum([0.1] * 10) == 1"
   ]
  },
  {
   "cell_type": "code",
   "execution_count": 136,
   "id": "31c814dd-6f77-4cc9-8a82-f3e65606f64e",
   "metadata": {},
   "outputs": [
    {
     "data": {
      "text/plain": [
       "(3602879701896397, 36028797018963968)"
      ]
     },
     "execution_count": 136,
     "metadata": {},
     "output_type": "execute_result"
    }
   ],
   "source": [
    "0.1.as_integer_ratio()"
   ]
  },
  {
   "cell_type": "code",
   "execution_count": 126,
   "id": "dadcaa87-2855-425b-9d78-62df85108d15",
   "metadata": {},
   "outputs": [
    {
     "data": {
      "text/plain": [
       "2.0"
      ]
     },
     "execution_count": 126,
     "metadata": {},
     "output_type": "execute_result"
    }
   ],
   "source": [
    "float('2')"
   ]
  },
  {
   "cell_type": "code",
   "execution_count": 144,
   "id": "cbd7fc37-c295-4c0f-9817-bae145e8144a",
   "metadata": {},
   "outputs": [
    {
     "data": {
      "text/plain": [
       "True"
      ]
     },
     "execution_count": 144,
     "metadata": {},
     "output_type": "execute_result"
    }
   ],
   "source": [
    "'3'.isnumeric()"
   ]
  },
  {
   "cell_type": "markdown",
   "id": "406e3b2f-c1b7-459c-a342-c476ff486d36",
   "metadata": {},
   "source": [
    "### Operations"
   ]
  },
  {
   "cell_type": "code",
   "execution_count": 208,
   "id": "5ee1e8d6-3869-4e73-829d-9a1f7132f365",
   "metadata": {},
   "outputs": [
    {
     "data": {
      "text/plain": [
       "81"
      ]
     },
     "execution_count": 208,
     "metadata": {},
     "output_type": "execute_result"
    }
   ],
   "source": [
    "9**2"
   ]
  },
  {
   "cell_type": "code",
   "execution_count": 209,
   "id": "64858260-5003-48df-8818-9cfc6f58819a",
   "metadata": {},
   "outputs": [
    {
     "data": {
      "text/plain": [
       "3"
      ]
     },
     "execution_count": 209,
     "metadata": {},
     "output_type": "execute_result"
    }
   ],
   "source": [
    "14//4 # integer result of the division"
   ]
  },
  {
   "cell_type": "code",
   "execution_count": 210,
   "id": "18830dc7-9f49-4b6c-b7f8-8aff6252dde3",
   "metadata": {},
   "outputs": [
    {
     "data": {
      "text/plain": [
       "2"
      ]
     },
     "execution_count": 210,
     "metadata": {},
     "output_type": "execute_result"
    }
   ],
   "source": [
    "14%4 # modulo"
   ]
  },
  {
   "cell_type": "code",
   "execution_count": 217,
   "id": "15415c3e-6dd4-42e3-b575-af69383844c4",
   "metadata": {},
   "outputs": [
    {
     "name": "stdout",
     "output_type": "stream",
     "text": [
      "14 is equal to 3 x 4 + 2\n"
     ]
    }
   ],
   "source": [
    "my_nb = 14\n",
    "my_div = 4\n",
    "print(f'{my_nb} is equal to {my_nb // my_div} x 4 + {my_nb % my_div}')"
   ]
  },
  {
   "cell_type": "code",
   "execution_count": 211,
   "id": "d54eaeeb-e495-4a7d-8538-e09778b5b37a",
   "metadata": {},
   "outputs": [
    {
     "data": {
      "text/plain": [
       "5.0"
      ]
     },
     "execution_count": 211,
     "metadata": {},
     "output_type": "execute_result"
    }
   ],
   "source": [
    "1.0 * 5"
   ]
  },
  {
   "cell_type": "markdown",
   "id": "4a92bf31-aa7c-409f-81f8-c1f77126b39c",
   "metadata": {},
   "source": [
    "## 2.3. Strings\n",
    "```Python\n",
    "this_is_string = 'whatever'\n",
    "this_is_also_a_string = \"it's now or never\"\n",
    "this_is_docstring = '''This may spread over\n",
    "                        multiple lines.\n",
    "                        Usually used at the beggining of a function definition,\n",
    "                        to explain what your function does.'''\n",
    "```\n",
    "If you want to combine variables with text, then the \"f-strings\" are the way.\n",
    "```Python\n",
    "my_variable = 18\n",
    "also_a_string = f\"My contract ends in {my_variable} months. I don't have time to learn Python.\"\n",
    "```"
   ]
  },
  {
   "cell_type": "markdown",
   "id": "16f949d6-ff5d-437e-85b8-32098fdcbf6c",
   "metadata": {},
   "source": [
    "# 3. Sequences\n",
    "```Python\n",
    "range\n",
    "tuple\n",
    "list\n",
    "```"
   ]
  },
  {
   "cell_type": "markdown",
   "id": "1d2c41b4-99eb-4503-a89d-60a08be5b28f",
   "metadata": {},
   "source": [
    "### Tuple\n",
    "**Immutable**"
   ]
  },
  {
   "cell_type": "markdown",
   "id": "ee33d987-3a60-4438-bbc9-1a4a172ade02",
   "metadata": {},
   "source": [
    "Elements can be of heterogenous types."
   ]
  },
  {
   "cell_type": "code",
   "execution_count": 2,
   "id": "f849abbd-f5e7-43ba-8948-f678b54a3cd6",
   "metadata": {},
   "outputs": [],
   "source": [
    "my_tuple = (4, (3, 'r', 5.2, 'klh', 4), 1e4, 'last')"
   ]
  },
  {
   "cell_type": "markdown",
   "id": "53f91e5b-a9a7-454f-930a-3cbe5acf8751",
   "metadata": {},
   "source": [
    "Basic indexing:  \n",
    "  - **starts with 0**  \n",
    "  - slices\n",
    "  - steps"
   ]
  },
  {
   "cell_type": "code",
   "execution_count": 221,
   "id": "b5b7c62a-b5f7-4a67-bf8f-2f68c34355d4",
   "metadata": {},
   "outputs": [
    {
     "data": {
      "text/plain": [
       "(3, 'r', 5.2)"
      ]
     },
     "execution_count": 221,
     "metadata": {},
     "output_type": "execute_result"
    }
   ],
   "source": [
    "my_tuple[1][:3]"
   ]
  },
  {
   "cell_type": "code",
   "execution_count": 4,
   "id": "17c9f629-2cc7-48c4-800c-233b89a5b39f",
   "metadata": {},
   "outputs": [
    {
     "ename": "TypeError",
     "evalue": "tuple indices must be integers or slices, not list",
     "output_type": "error",
     "traceback": [
      "\u001b[0;31m---------------------------------------------------------------------------\u001b[0m",
      "\u001b[0;31mTypeError\u001b[0m                                 Traceback (most recent call last)",
      "\u001b[0;32m<ipython-input-4-bdaaa313d93a>\u001b[0m in \u001b[0;36m<module>\u001b[0;34m\u001b[0m\n\u001b[0;32m----> 1\u001b[0;31m \u001b[0mmy_tuple\u001b[0m\u001b[0;34m[\u001b[0m\u001b[0;34m[\u001b[0m\u001b[0;36m1\u001b[0m\u001b[0;34m,\u001b[0m\u001b[0;36m2\u001b[0m\u001b[0;34m]\u001b[0m\u001b[0;34m]\u001b[0m\u001b[0;34m\u001b[0m\u001b[0;34m\u001b[0m\u001b[0m\n\u001b[0m",
      "\u001b[0;31mTypeError\u001b[0m: tuple indices must be integers or slices, not list"
     ]
    }
   ],
   "source": [
    "# But, you can't do:\n",
    "my_tuple[[1,2]]"
   ]
  },
  {
   "cell_type": "code",
   "execution_count": 169,
   "id": "0cd49d6f-d531-4ba2-959b-63f799c82d51",
   "metadata": {},
   "outputs": [
    {
     "data": {
      "text/plain": [
       "((3, 'r', 5.2), 10000.0)"
      ]
     },
     "execution_count": 169,
     "metadata": {},
     "output_type": "execute_result"
    }
   ],
   "source": [
    "# Unless:\n",
    "from operator import itemgetter\n",
    "\n",
    "g = itemgetter(1,2)\n",
    "g(my_tuple)"
   ]
  },
  {
   "cell_type": "code",
   "execution_count": 173,
   "id": "2e5500b3-bfe6-4aae-810b-f5834cc02a19",
   "metadata": {},
   "outputs": [
    {
     "data": {
      "text/plain": [
       "(4, (3, 'r', 5.2), 10000.0, 'last', 3, 4)"
      ]
     },
     "execution_count": 173,
     "metadata": {},
     "output_type": "execute_result"
    }
   ],
   "source": [
    "extended_tuple = my_tuple + (3, 4)\n",
    "extended_tuple"
   ]
  },
  {
   "cell_type": "code",
   "execution_count": null,
   "id": "f8b97abb-4441-42d4-ac90-2946401bac37",
   "metadata": {},
   "outputs": [],
   "source": [
    "3 * my_tuple"
   ]
  },
  {
   "cell_type": "code",
   "execution_count": 170,
   "id": "44ad0b2b-81e9-4b30-b458-f6c11d73ce6e",
   "metadata": {},
   "outputs": [
    {
     "ename": "TypeError",
     "evalue": "'tuple' object does not support item assignment",
     "output_type": "error",
     "traceback": [
      "\u001b[0;31m---------------------------------------------------------------------------\u001b[0m",
      "\u001b[0;31mTypeError\u001b[0m                                 Traceback (most recent call last)",
      "\u001b[0;32m<ipython-input-170-adc77368064f>\u001b[0m in \u001b[0;36m<module>\u001b[0;34m\u001b[0m\n\u001b[1;32m      1\u001b[0m \u001b[0;31m# But, since immutable:\u001b[0m\u001b[0;34m\u001b[0m\u001b[0;34m\u001b[0m\u001b[0;34m\u001b[0m\u001b[0m\n\u001b[0;32m----> 2\u001b[0;31m \u001b[0mmy_tuple\u001b[0m\u001b[0;34m[\u001b[0m\u001b[0;36m1\u001b[0m\u001b[0;34m]\u001b[0m \u001b[0;34m=\u001b[0m \u001b[0;34m'new value'\u001b[0m\u001b[0;34m\u001b[0m\u001b[0;34m\u001b[0m\u001b[0m\n\u001b[0m",
      "\u001b[0;31mTypeError\u001b[0m: 'tuple' object does not support item assignment"
     ]
    }
   ],
   "source": [
    "# But, since immutable:\n",
    "my_tuple[1] = 'new value'"
   ]
  },
  {
   "cell_type": "code",
   "execution_count": 182,
   "id": "daa65fae-4721-426c-8b35-c25d07b8cbab",
   "metadata": {},
   "outputs": [
    {
     "data": {
      "text/plain": [
       "6"
      ]
     },
     "execution_count": 182,
     "metadata": {},
     "output_type": "execute_result"
    }
   ],
   "source": [
    "len(extended_tuple)"
   ]
  },
  {
   "cell_type": "code",
   "execution_count": 181,
   "id": "5628a511-1a4f-432e-87db-a08845750a54",
   "metadata": {},
   "outputs": [
    {
     "data": {
      "text/plain": [
       "0"
      ]
     },
     "execution_count": 181,
     "metadata": {},
     "output_type": "execute_result"
    }
   ],
   "source": [
    "extended_tuple.index(4)#count(4)"
   ]
  },
  {
   "cell_type": "markdown",
   "id": "e7f199bd-7163-49e1-a427-a1f2037fc19a",
   "metadata": {},
   "source": [
    "### Range"
   ]
  },
  {
   "cell_type": "code",
   "execution_count": 123,
   "id": "9cfdad6d-82eb-4ad6-aa30-3fca9663b307",
   "metadata": {},
   "outputs": [
    {
     "name": "stdout",
     "output_type": "stream",
     "text": [
      "0\n",
      "1\n",
      "4\n",
      "9\n",
      "16\n"
     ]
    }
   ],
   "source": [
    "# range is like a \"lazy tuple\" used for counting:\n",
    "for i in range(5):\n",
    "    print(i**2)"
   ]
  },
  {
   "cell_type": "markdown",
   "id": "3ac6c880-3c49-49e3-963f-de44177d5a4c",
   "metadata": {},
   "source": [
    "### List\n",
    "**Mutable**"
   ]
  },
  {
   "cell_type": "code",
   "execution_count": 1136,
   "id": "ba8bf8f8-def9-42c4-ac06-269977116e9f",
   "metadata": {},
   "outputs": [],
   "source": [
    "my_list = ['lh', [4, 5, 3, 3, 3], 4e4]"
   ]
  },
  {
   "cell_type": "code",
   "execution_count": 1137,
   "id": "99fd0a14-2963-47d3-8277-ae537ebbd2ea",
   "metadata": {},
   "outputs": [
    {
     "data": {
      "text/plain": [
       "['lh', [4, 5, 3, 3, 'new value'], 40000.0]"
      ]
     },
     "execution_count": 1137,
     "metadata": {},
     "output_type": "execute_result"
    }
   ],
   "source": [
    "my_list[1][-1] = 'new value'\n",
    "my_list"
   ]
  },
  {
   "cell_type": "code",
   "execution_count": 229,
   "id": "48fbcbca-6e78-4bcb-887d-fc980309e915",
   "metadata": {},
   "outputs": [
    {
     "data": {
      "text/plain": [
       "[5, 10, 15, 20, 25, 30, 35, 40, 45, 50, 55, 60, 65, 70, 75, 80, 85, 90, 95]"
      ]
     },
     "execution_count": 229,
     "metadata": {},
     "output_type": "execute_result"
    }
   ],
   "source": [
    "my_list = list(range(5, 100, 5))\n",
    "my_list"
   ]
  },
  {
   "cell_type": "code",
   "execution_count": 234,
   "id": "997201c0-a2ef-420d-bea9-62509f24a9ce",
   "metadata": {},
   "outputs": [
    {
     "data": {
      "text/plain": [
       "[90, 80, 70, 60, 50, 40, 30, 20]"
      ]
     },
     "execution_count": 234,
     "metadata": {},
     "output_type": "execute_result"
    }
   ],
   "source": [
    "my_list[-2:2:-2]"
   ]
  },
  {
   "cell_type": "markdown",
   "id": "e95e13ad-a881-4b19-b8a1-74b590443df9",
   "metadata": {},
   "source": [
    "### Bonus: Generators"
   ]
  },
  {
   "cell_type": "code",
   "execution_count": 1130,
   "id": "411e5368-4472-4879-ad4c-1ee2444ad13c",
   "metadata": {},
   "outputs": [
    {
     "data": {
      "text/plain": [
       "generator"
      ]
     },
     "execution_count": 1130,
     "metadata": {},
     "output_type": "execute_result"
    }
   ],
   "source": [
    "# Another kind of sequence(?) - generators:\n",
    "my_gen = (2**i for i in range(2, 4**5))\n",
    "type(my_gen)"
   ]
  },
  {
   "cell_type": "code",
   "execution_count": 1131,
   "id": "6e35257f-0b9c-488b-a82e-0a645594f7d2",
   "metadata": {},
   "outputs": [
    {
     "name": "stdout",
     "output_type": "stream",
     "text": [
      "generator memory size:      112\n",
      "vs\n",
      "list memory size:          8536\n"
     ]
    }
   ],
   "source": [
    "import sys\n",
    "print(f\"{'generator memory size:':<25s} {sys.getsizeof(my_gen):>5d}\"\n",
    "      \"\\nvs\\n\"\n",
    "      f\"{'list memory size:':<25s} {sys.getsizeof(list(my_gen)):>5d}\")"
   ]
  },
  {
   "cell_type": "code",
   "execution_count": 1113,
   "id": "e0f549d2-b132-492a-b113-80086ed60155",
   "metadata": {},
   "outputs": [
    {
     "ename": "StopIteration",
     "evalue": "",
     "output_type": "error",
     "traceback": [
      "\u001b[0;31m---------------------------------------------------------------------------\u001b[0m",
      "\u001b[0;31mStopIteration\u001b[0m                             Traceback (most recent call last)",
      "\u001b[0;32m<ipython-input-1113-22a9c2454d61>\u001b[0m in \u001b[0;36m<module>\u001b[0;34m\u001b[0m\n\u001b[1;32m      1\u001b[0m \u001b[0;31m# Run this cell multiple times (using Ctrl+Enter)\u001b[0m\u001b[0;34m\u001b[0m\u001b[0;34m\u001b[0m\u001b[0;34m\u001b[0m\u001b[0m\n\u001b[0;32m----> 2\u001b[0;31m \u001b[0mnext\u001b[0m\u001b[0;34m(\u001b[0m\u001b[0mmy_gen\u001b[0m\u001b[0;34m)\u001b[0m\u001b[0;34m\u001b[0m\u001b[0;34m\u001b[0m\u001b[0m\n\u001b[0m",
      "\u001b[0;31mStopIteration\u001b[0m: "
     ]
    }
   ],
   "source": [
    "# Run this cell multiple times (using Ctrl+Enter)\n",
    "next(my_gen)"
   ]
  },
  {
   "cell_type": "markdown",
   "id": "bfd6cd19-59ab-474b-abf8-9b7175628990",
   "metadata": {
    "tags": []
   },
   "source": [
    "## List comprehensions\n",
    "\n",
    "A very succint and convinient way of creating new lists from an existing iterable\n",
    "\n",
    "The same way we did for creating the generator, only this time we use the square brackets \"[]\"\n",
    "```Python\n",
    "my_cool_list = [f(x) for x in my_iterable]\n",
    "```\n",
    "Create the new list only from elements satifying given condition (filtered iterable):\n",
    "```Python\n",
    "my_cool_list = [f(x) for x in my_iterable if condition(x)]\n",
    "```\n",
    "**BUT!:** To cover all the cases (condition satisfied or not):\n",
    "```Python\n",
    "my_cool_list = [f(x) if condition(x) else g(x) for x in my_iterable]\n",
    "```\n",
    "If you want to complicate further:\n",
    "```Python\n",
    "my_cool_list = [f(x) if condition1(x) else g(x) for x in my_iterable if condition2(x)]\n",
    "```\n",
    "\n",
    "_There is also the possiblity to loop through two iterables, but have mercy on those who'll read that code (it may be the 1 year older version of yourself)_"
   ]
  },
  {
   "cell_type": "markdown",
   "id": "f20c5711-aaf4-488f-97be-d07cd1bbc8e6",
   "metadata": {},
   "source": [
    "------------\n",
    "## Exercises"
   ]
  },
  {
   "cell_type": "markdown",
   "id": "2b02c604-f27e-4057-8e78-41d581fe88ae",
   "metadata": {},
   "source": [
    "**EX.1. Bool:**\n",
    "Find the number of students with notes bigger then 16."
   ]
  },
  {
   "cell_type": "code",
   "execution_count": 135,
   "id": "8a34e466-7c54-4c13-be06-5c188c3aedcc",
   "metadata": {},
   "outputs": [],
   "source": [
    "import random # Example of a standard library module\n",
    "\n",
    "# The list of student's grades\n",
    "# (integers from 0 to 20 for 200 students):\n",
    "grades_list = [random.randint(0, 20) for i in range(200)]"
   ]
  },
  {
   "cell_type": "code",
   "execution_count": 145,
   "id": "5e15430c-7a1d-4d6f-a086-bc9f0be7e7cb",
   "metadata": {
    "collapsed": true,
    "jupyter": {
     "outputs_hidden": true,
     "source_hidden": true
    },
    "tags": []
   },
   "outputs": [
    {
     "data": {
      "image/png": "[encoded data removed]",
      "text/plain": [
       "<Figure size 432x288 with 1 Axes>"
      ]
     },
     "metadata": {
      "needs_background": "light"
     },
     "output_type": "display_data"
    }
   ],
   "source": [
    "# Run this cell to see the histogram\n",
    "%run \"../snippets/student_notes_histogram.py\" {' '.join(map(str, grades_list))}"
   ]
  },
  {
   "cell_type": "code",
   "execution_count": null,
   "id": "ce45b43f-12f9-4144-9579-ddaeac7e3a6e",
   "metadata": {},
   "outputs": [],
   "source": [
    "# Your solution:\n"
   ]
  },
  {
   "cell_type": "markdown",
   "id": "89606400-42b9-4c0c-b841-9d9f3212e632",
   "metadata": {},
   "source": [
    "Run the next cell (twice) to see the solution:"
   ]
  },
  {
   "cell_type": "code",
   "execution_count": 168,
   "id": "732d712a-3c2a-4802-b4ba-07747510b455",
   "metadata": {
    "collapsed": true,
    "jupyter": {
     "outputs_hidden": true
    },
    "tags": []
   },
   "outputs": [
    {
     "name": "stdout",
     "output_type": "stream",
     "text": [
      "There are 39 notes bigger then 16.\n"
     ]
    }
   ],
   "source": [
    "%load \"../snippets/solutions/Ch1Ex1.py\""
   ]
  },
  {
   "cell_type": "markdown",
   "id": "a4bb8a04-e128-4842-88e1-dcd4e9c7f285",
   "metadata": {},
   "source": [
    "**EX.2. List comprehension**  \n",
    "Increase by 1 the grade of each student if it's smaller then 20, otherwise leave it at 20"
   ]
  },
  {
   "cell_type": "code",
   "execution_count": null,
   "id": "04bd1ba0-22bc-401a-9eb2-7f68595800c1",
   "metadata": {},
   "outputs": [],
   "source": [
    "# Your solution:\n"
   ]
  },
  {
   "cell_type": "markdown",
   "id": "3688efd8-4cce-46c7-936e-77ee572441ab",
   "metadata": {},
   "source": [
    "Run this next cell (twice) to see the solution"
   ]
  },
  {
   "cell_type": "code",
   "execution_count": 162,
   "id": "cdbfa0d4-e733-4da0-8027-febe5a3d7ebb",
   "metadata": {},
   "outputs": [],
   "source": [
    "%load \"../snippets/solutions/Ch1Ex2.py\""
   ]
  },
  {
   "cell_type": "code",
   "execution_count": 161,
   "id": "0cc55536-1af0-4f79-9d9e-01d928976108",
   "metadata": {
    "collapsed": true,
    "jupyter": {
     "outputs_hidden": true
    },
    "tags": []
   },
   "outputs": [
    {
     "data": {
      "image/png": "[encoded data removed]",
      "text/plain": [
       "<Figure size 432x288 with 1 Axes>"
      ]
     },
     "metadata": {
      "needs_background": "light"
     },
     "output_type": "display_data"
    }
   ],
   "source": [
    "# Run this cell to see the histogram\n",
    "%run \"../snippets/student_notes_histogram.py\" {' '.join(map(str, increased_grades_LC))}"
   ]
  },
  {
   "cell_type": "markdown",
   "id": "1f455deb-3539-4b82-abf1-487d1a451b1d",
   "metadata": {},
   "source": [
    "**Bonus** - The same example in numpy"
   ]
  },
  {
   "cell_type": "code",
   "execution_count": 166,
   "id": "13efb44c-3c56-4911-97cc-214acc0afe86",
   "metadata": {},
   "outputs": [],
   "source": [
    "import numpy as np # import numpy\n",
    "\n",
    "grades_arr = np.array(grades_list) # Transform the list into a numpy array"
   ]
  },
  {
   "cell_type": "code",
   "execution_count": 165,
   "id": "2fda5cdb-74a9-401a-a016-a3f65123a4ce",
   "metadata": {},
   "outputs": [],
   "source": [
    "grades_arr[grades_arr < 20] += 1 # That's all :)"
   ]
  }
 ],
 "metadata": {
  "kernelspec": {
   "display_name": "3D",
   "language": "python",
   "name": "3d"
  },
  "language_info": {
   "codemirror_mode": {
    "name": "ipython",
    "version": 3
   },
   "file_extension": ".py",
   "mimetype": "text/x-python",
   "name": "python",
   "nbconvert_exporter": "python",
   "pygments_lexer": "ipython3",
   "version": "3.8.5"
  }
 },
 "nbformat": 4,
 "nbformat_minor": 5
}
