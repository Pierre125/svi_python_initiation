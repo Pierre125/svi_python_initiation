{
 "cells": [
  {
   "cell_type": "markdown",
   "id": "66b0297e-b740-4a80-9739-f1598c1d0724",
   "metadata": {},
   "source": [
    "# 1. Basic types\n",
    "\n",
    "## 1.1. Booleans\n",
    "\n",
    "Important thing to note here is that in Python, the boolean `True` is (for all intents and purposes) \"the same\" as integer `1`, and similarily:"
   ]
  },
  {
   "cell_type": "code",
   "execution_count": 6,
   "id": "e4012849-296f-44cb-93e3-a0f15a7c0f41",
   "metadata": {},
   "outputs": [
    {
     "data": {
      "text/plain": [
       "True"
      ]
     },
     "execution_count": 6,
     "metadata": {},
     "output_type": "execute_result"
    }
   ],
   "source": [
    "False == 0"
   ]
  },
  {
   "cell_type": "markdown",
   "id": "ad8b4934-848d-4904-a25c-9a69afa32431",
   "metadata": {},
   "source": [
    "## 1.2. Numerical\n",
    "\n",
    "`int`, `float`, `complex`"
   ]
  },
  {
   "cell_type": "code",
   "execution_count": 129,
   "id": "2c1a03b8-6253-4cb0-a652-dbba83325234",
   "metadata": {},
   "outputs": [
    {
     "data": {
      "text/plain": [
       "(-1.2000000000000002+2j)"
      ]
     },
     "execution_count": 129,
     "metadata": {},
     "output_type": "execute_result"
    }
   ],
   "source": [
    "3+2j - 4.2"
   ]
  },
  {
   "cell_type": "code",
   "execution_count": 148,
   "id": "fcf0a9a5-fcb1-4e2a-ad89-83e075dc5348",
   "metadata": {},
   "outputs": [
    {
     "name": "stdout",
     "output_type": "stream",
     "text": [
      "This is the memory value of your float:\n",
      "4.20000000000000017763568394002504646778106689453125\n"
     ]
    }
   ],
   "source": [
    "print(f\"This is the memory value of your float:\\n{4.2:.50f}\")"
   ]
  },
  {
   "cell_type": "markdown",
   "id": "42f01e21-b03b-4e73-9587-1cf5953d602c",
   "metadata": {},
   "source": [
    "For more information on why is this the case, visit https://docs.python.org/3/tutorial/floatingpoint.html  \n",
    "In short, it's the consequence of your machine being bound to translate everything into binary, and in binary code 0.1 is infinite decimal, so it must inevitably be rounded somewhere."
   ]
  },
  {
   "cell_type": "code",
   "execution_count": 162,
   "id": "24b753a6-74da-43c1-ac3e-00a84a153521",
   "metadata": {},
   "outputs": [
    {
     "data": {
      "text/plain": [
       "False"
      ]
     },
     "execution_count": 162,
     "metadata": {},
     "output_type": "execute_result"
    }
   ],
   "source": [
    "# This cell should be revisited after learning about lists\n",
    "sum([0.1] * 10) == 1"
   ]
  },
  {
   "cell_type": "code",
   "execution_count": 136,
   "id": "31c814dd-6f77-4cc9-8a82-f3e65606f64e",
   "metadata": {},
   "outputs": [
    {
     "data": {
      "text/plain": [
       "(3602879701896397, 36028797018963968)"
      ]
     },
     "execution_count": 136,
     "metadata": {},
     "output_type": "execute_result"
    }
   ],
   "source": [
    "0.1.as_integer_ratio()"
   ]
  },
  {
   "cell_type": "code",
   "execution_count": 126,
   "id": "dadcaa87-2855-425b-9d78-62df85108d15",
   "metadata": {},
   "outputs": [
    {
     "data": {
      "text/plain": [
       "2.0"
      ]
     },
     "execution_count": 126,
     "metadata": {},
     "output_type": "execute_result"
    }
   ],
   "source": [
    "float('2')"
   ]
  },
  {
   "cell_type": "code",
   "execution_count": 144,
   "id": "cbd7fc37-c295-4c0f-9817-bae145e8144a",
   "metadata": {},
   "outputs": [
    {
     "data": {
      "text/plain": [
       "True"
      ]
     },
     "execution_count": 144,
     "metadata": {},
     "output_type": "execute_result"
    }
   ],
   "source": [
    "'3'.isnumeric()"
   ]
  },
  {
   "cell_type": "markdown",
   "id": "16f949d6-ff5d-437e-85b8-32098fdcbf6c",
   "metadata": {},
   "source": [
    "## 1.3 Sequences\n",
    "```Python\n",
    "range\n",
    "tuple\n",
    "list\n",
    "```"
   ]
  },
  {
   "cell_type": "code",
   "execution_count": 178,
   "id": "9cfdad6d-82eb-4ad6-aa30-3fca9663b307",
   "metadata": {},
   "outputs": [
    {
     "name": "stdout",
     "output_type": "stream",
     "text": [
      "0\n",
      "1\n",
      "4\n",
      "9\n",
      "16\n"
     ]
    }
   ],
   "source": [
    "# range is a lazy tuple:\n",
    "for i in range(5):\n",
    "    print(i**2)"
   ]
  },
  {
   "cell_type": "code",
   "execution_count": 169,
   "id": "48fbcbca-6e78-4bcb-887d-fc980309e915",
   "metadata": {},
   "outputs": [
    {
     "data": {
      "text/plain": [
       "[8, 10, 12, 14, 16, 18, 20]"
      ]
     },
     "execution_count": 169,
     "metadata": {},
     "output_type": "execute_result"
    }
   ],
   "source": [
    "list(range(8, 22, 2))"
   ]
  },
  {
   "cell_type": "code",
   "execution_count": 181,
   "id": "411e5368-4472-4879-ad4c-1ee2444ad13c",
   "metadata": {},
   "outputs": [
    {
     "data": {
      "text/plain": [
       "generator"
      ]
     },
     "execution_count": 181,
     "metadata": {},
     "output_type": "execute_result"
    }
   ],
   "source": [
    "my_gen = (2**i for i in range(4, 16))\n",
    "type(my_gen)"
   ]
  },
  {
   "cell_type": "code",
   "execution_count": 195,
   "id": "e0f549d2-b132-492a-b113-80086ed60155",
   "metadata": {},
   "outputs": [
    {
     "ename": "StopIteration",
     "evalue": "",
     "output_type": "error",
     "traceback": [
      "\u001b[0;31m---------------------------------------------------------------------------\u001b[0m",
      "\u001b[0;31mStopIteration\u001b[0m                             Traceback (most recent call last)",
      "\u001b[0;32m<ipython-input-195-78dc05d55b31>\u001b[0m in \u001b[0;36m<module>\u001b[0;34m\u001b[0m\n\u001b[0;32m----> 1\u001b[0;31m \u001b[0mnext\u001b[0m\u001b[0;34m(\u001b[0m\u001b[0mmy_gen\u001b[0m\u001b[0;34m)\u001b[0m\u001b[0;34m\u001b[0m\u001b[0;34m\u001b[0m\u001b[0m\n\u001b[0m",
      "\u001b[0;31mStopIteration\u001b[0m: "
     ]
    }
   ],
   "source": [
    "next(my_gen)"
   ]
  },
  {
   "cell_type": "markdown",
   "id": "2b02c604-f27e-4057-8e78-41d581fe88ae",
   "metadata": {},
   "source": [
    "**EX.1. Bool:**\n",
    "Find the number of students with notes bigger then 16."
   ]
  },
  {
   "cell_type": "code",
   "execution_count": 158,
   "id": "8a34e466-7c54-4c13-be06-5c188c3aedcc",
   "metadata": {},
   "outputs": [],
   "source": [
    "import random\n",
    "\n",
    "# The list of (good) student's notes\n",
    "# (integers from 12 to 20 for 200 students):\n",
    "notes_list = [random.randint(12, 20) for i in range(200)]"
   ]
  },
  {
   "cell_type": "code",
   "execution_count": 159,
   "id": "5e15430c-7a1d-4d6f-a086-bc9f0be7e7cb",
   "metadata": {
    "tags": []
   },
   "outputs": [
    {
     "data": {
      "image/png": "[encoded data removed]",
      "text/plain": [
       "<Figure size 432x288 with 1 Axes>"
      ]
     },
     "metadata": {
      "needs_background": "light"
     },
     "output_type": "display_data"
    }
   ],
   "source": [
    "import matplotlib.pyplot as plt\n",
    "\n",
    "plt.hist(notes_list, bins=range(12,22), align='left', rwidth=0.6);\n",
    "plt.grid(True, axis='y')"
   ]
  },
  {
   "cell_type": "code",
   "execution_count": null,
   "id": "732d712a-3c2a-4802-b4ba-07747510b455",
   "metadata": {},
   "outputs": [],
   "source": []
  }
 ],
 "metadata": {
  "kernelspec": {
   "display_name": "3D",
   "language": "python",
   "name": "3d"
  },
  "language_info": {
   "codemirror_mode": {
    "name": "ipython",
    "version": 3
   },
   "file_extension": ".py",
   "mimetype": "text/x-python",
   "name": "python",
   "nbconvert_exporter": "python",
   "pygments_lexer": "ipython3",
   "version": "3.8.5"
  }
 },
 "nbformat": 4,
 "nbformat_minor": 5
}
